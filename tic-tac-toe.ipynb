{
 "cells": [
  {
   "cell_type": "code",
   "execution_count": 1,
   "metadata": {},
   "outputs": [],
   "source": [
    "def user_input(n):\n",
    "    s = 'a'\n",
    "    print(\"User {} makes a move\".format(n % 2 + 1))\n",
    "    while (1):\n",
    "        s = input(\"Please insert an integer between 0 and 8:\" )\n",
    "        if not s.isnumeric():\n",
    "            print(\"Please insert an integer between 0 and 8:\")\n",
    "        elif int(s) not in range(0, 9):\n",
    "            print(\"Please insert an integer between 0 and 8:\")\n",
    "        else:\n",
    "            break\n",
    "    return(int(s))"
   ]
  },
  {
   "cell_type": "code",
   "execution_count": 2,
   "metadata": {},
   "outputs": [],
   "source": [
    "def choose_symb():\n",
    "    '''This function asks player one to choose one of the two symbols x or o'''\n",
    "    s = ' '\n",
    "    while s not in ('x', 'o'):\n",
    "        s = input(\"Choose one of the two symbols 'x' or 'o':\")\n",
    "    if (s == 'x'):\n",
    "        print(\"The first player has choosen 'x', the second player will use 'o'.\")\n",
    "        return(['x', 'o'])\n",
    "    else:\n",
    "        print(\"The first player has choosen 'o', the second player will use 'x'.\")\n",
    "        return(['o', 'x'])    "
   ]
  },
  {
   "cell_type": "code",
   "execution_count": 12,
   "metadata": {},
   "outputs": [],
   "source": [
    "def another_game():\n",
    "    while (1):\n",
    "        a = input('Do you want to play again? Enter Yes or No: ')\n",
    "        if a.lower() == \"yes\":\n",
    "            return True\n",
    "        elif a.lower() == \"no\":\n",
    "            return False \n",
    "        else:\n",
    "            print(\"Answer Yes or No only\")"
   ]
  },
  {
   "cell_type": "code",
   "execution_count": 13,
   "metadata": {
    "scrolled": true
   },
   "outputs": [],
   "source": [
    "def print_table(A):\n",
    "    print(\"-------------\")\n",
    "    for i in range(3):\n",
    "        print(' '.join(A[i]))\n",
    "        print(\"-------------\")"
   ]
  },
  {
   "cell_type": "code",
   "execution_count": 14,
   "metadata": {},
   "outputs": [],
   "source": [
    "def check_table():\n",
    "    for l in A:\n",
    "        for h in l:\n",
    "            if h not in ('|', 'x', 'o'):\n",
    "                return(1)\n",
    "    return(0)"
   ]
  },
  {
   "cell_type": "code",
   "execution_count": 15,
   "metadata": {},
   "outputs": [],
   "source": [
    "def update_table(A, n, a):\n",
    "    '''This function updates the table at the nth move of the game. If n % 2 == 0 it is the turn of the first player\n",
    "    odd numbers are the turn of the second player'''\n",
    "    #d / 3 line to which we write #d % 3 place we write\n",
    "    if (check_table()):\n",
    "        while (1):\n",
    "            d = user_input(n)\n",
    "            if (A[d // 3][2*(d % 3) + 1] in ('o', 'x')):\n",
    "                print(\"Choose from numbers on the table\")\n",
    "            else:\n",
    "                A[d // 3][2*(d % 3) + 1] = a[n % 2]           \n",
    "                #return (1)\n",
    "                break\n",
    "    #return (0)"
   ]
  },
  {
   "cell_type": "code",
   "execution_count": 16,
   "metadata": {},
   "outputs": [],
   "source": [
    "def check_winner(A, sym):\n",
    "    return((A[0][1] == sym and A[0][3] == sym and A[0][5] == sym) or \n",
    "           (A[1][1] == sym and A[1][3] == sym and A[1][5] == sym) or \n",
    "           (A[2][1] == sym and A[2][3] == sym and A[2][5] == sym) or \n",
    "           (A[0][1] == sym and A[1][1] == sym and A[2][1] == sym) or \n",
    "           (A[0][3] == sym and A[1][3] == sym and A[2][3] == sym) or\n",
    "           (A[0][5] == sym and A[1][5] == sym and A[2][5] == sym) or\n",
    "           (A[0][1] == sym and A[1][3] == sym and A[2][5] == sym) or\n",
    "           (A[0][5] == sym and A[1][3] == sym and A[2][1] == sym))\n",
    "        "
   ]
  },
  {
   "cell_type": "code",
   "execution_count": 19,
   "metadata": {},
   "outputs": [
    {
     "name": "stdout",
     "output_type": "stream",
     "text": [
      "-------------\n",
      "| o | x | o |\n",
      "-------------\n",
      "| o | x | x |\n",
      "-------------\n",
      "| x | o | o |\n",
      "-------------\n",
      "Tha was a tie!\n",
      "Do you want to play again? Enter Yes or No: no\n"
     ]
    }
   ],
   "source": [
    "from IPython.display import clear_output\n",
    "\n",
    "print(\"This is the tic-tac-toe game\")\n",
    "B = [['|', '0', '|', '1', '|', '2', '|'], ['|', '3', '|', '4', '|', '5', '|'], ['|', '6', '|', '7', '|', '8', '|']]\n",
    "\n",
    "while (1):\n",
    "    begin = input(\"Are you ready to start: choose Yes or No: \")\n",
    "    if (begin.lower() == 'no'):\n",
    "        print(\"Fine come when you want to play\")\n",
    "        z = False\n",
    "        break\n",
    "    elif (begin.lower() == 'yes'):\n",
    "        z = True\n",
    "        break\n",
    "    else:\n",
    "        print(\"Answer yes or no\")\n",
    "\n",
    "while z:\n",
    "    A =  [['|', '0', '|', '1', '|', '2', '|'], ['|', '3', '|', '4', '|', '5', '|'], ['|', '6', '|', '7', '|', '8', '|']]\n",
    "    print_table(A) # inital table \n",
    "    a = choose_symb() #1st player chooses symbol\n",
    "    n = 0\n",
    "    while (1):\n",
    "        update_table(A, n, a)\n",
    "        clear_output()\n",
    "        print_table(A) #table after the movement\n",
    "        if (check_winner(A, a[n % 2])):\n",
    "            print(\"Player {} wins.\".format(n % 2 + 1))\n",
    "            break\n",
    "        elif (check_table() == 0):\n",
    "            print(\"Tha was a tie!\")\n",
    "            break \n",
    "        n += 1\n",
    "    if not another_game():\n",
    "        break"
   ]
  },
  {
   "cell_type": "code",
   "execution_count": null,
   "metadata": {},
   "outputs": [],
   "source": []
  },
  {
   "cell_type": "code",
   "execution_count": null,
   "metadata": {},
   "outputs": [],
   "source": []
  }
 ],
 "metadata": {
  "kernelspec": {
   "display_name": "Python 3",
   "language": "python",
   "name": "python3"
  },
  "language_info": {
   "codemirror_mode": {
    "name": "ipython",
    "version": 3
   },
   "file_extension": ".py",
   "mimetype": "text/x-python",
   "name": "python",
   "nbconvert_exporter": "python",
   "pygments_lexer": "ipython3",
   "version": "3.7.1"
  }
 },
 "nbformat": 4,
 "nbformat_minor": 2
}
