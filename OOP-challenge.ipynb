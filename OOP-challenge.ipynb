{
 "cells": [
  {
   "cell_type": "markdown",
   "metadata": {},
   "source": [
    "Object Oriented Programming Challenge:\n",
    "\n",
    "Here we create a bank account class that has two attributes:\n",
    "\n",
    "owner\n",
    "balance\n",
    "\n",
    "and two methods:\n",
    "\n",
    "deposit\n",
    "withdraw\n",
    "\n",
    "Withdrawals may not exceed the available balance."
   ]
  },
  {
   "cell_type": "code",
   "execution_count": 37,
   "metadata": {},
   "outputs": [],
   "source": [
    "class Account:\n",
    "    \n",
    "    def __init__(self, owner, balance = 0):\n",
    "        self.owner = owner\n",
    "        self.balance = balance\n",
    "        print(\"Your account is opened successfully\")\n",
    "    \n",
    "    def __str__(self):\n",
    "        return f\"Account owner {self.owner}, \\nAccount balance ${self.balance}\"\n",
    "    \n",
    "    def deposit(self, amount):\n",
    "        if(amount < 0):\n",
    "            print(\"You can not deposite negative amount\")\n",
    "        else:\n",
    "            self.balance += amount\n",
    "            print (f\"Your new balance is ${self.balance}\")\n",
    "    \n",
    "    def withdraw (self, amount):\n",
    "        if (amount <= self.balance):\n",
    "            self.balance -= amount\n",
    "            print (f\"Your new balance is ${self.balance}\")\n",
    "        else:\n",
    "            print (f\"Maximum you can withdraw is ${self.balance}\") \n",
    "    \n",
    "    "
   ]
  },
  {
   "cell_type": "code",
   "execution_count": 38,
   "metadata": {},
   "outputs": [
    {
     "name": "stdout",
     "output_type": "stream",
     "text": [
      "Your account is opened successfully\n"
     ]
    }
   ],
   "source": [
    "a = Account(\"Marx\", 100)"
   ]
  },
  {
   "cell_type": "code",
   "execution_count": 39,
   "metadata": {},
   "outputs": [
    {
     "name": "stdout",
     "output_type": "stream",
     "text": [
      "Account owner Marx, \n",
      "Account balance $100\n"
     ]
    }
   ],
   "source": [
    "print(a)"
   ]
  },
  {
   "cell_type": "code",
   "execution_count": 40,
   "metadata": {},
   "outputs": [
    {
     "name": "stdout",
     "output_type": "stream",
     "text": [
      "Your new balance is $300\n"
     ]
    }
   ],
   "source": [
    "a.deposit(200)"
   ]
  },
  {
   "cell_type": "code",
   "execution_count": 41,
   "metadata": {},
   "outputs": [
    {
     "name": "stdout",
     "output_type": "stream",
     "text": [
      "Your new balance is $550\n"
     ]
    }
   ],
   "source": [
    "a.deposit(250)"
   ]
  },
  {
   "cell_type": "code",
   "execution_count": 42,
   "metadata": {},
   "outputs": [
    {
     "name": "stdout",
     "output_type": "stream",
     "text": [
      "Your new balance is $650\n"
     ]
    }
   ],
   "source": [
    "a.deposit(100)"
   ]
  },
  {
   "cell_type": "code",
   "execution_count": 43,
   "metadata": {},
   "outputs": [
    {
     "name": "stdout",
     "output_type": "stream",
     "text": [
      "Your new balance is $450\n"
     ]
    }
   ],
   "source": [
    "a.withdraw(200)"
   ]
  },
  {
   "cell_type": "code",
   "execution_count": 44,
   "metadata": {},
   "outputs": [
    {
     "name": "stdout",
     "output_type": "stream",
     "text": [
      "Your new balance is $300\n"
     ]
    }
   ],
   "source": [
    "a.withdraw(150)"
   ]
  },
  {
   "cell_type": "code",
   "execution_count": 45,
   "metadata": {},
   "outputs": [
    {
     "name": "stdout",
     "output_type": "stream",
     "text": [
      "Maximum you can withdraw is $300\n"
     ]
    }
   ],
   "source": [
    "a.withdraw(2000)"
   ]
  },
  {
   "cell_type": "code",
   "execution_count": null,
   "metadata": {},
   "outputs": [],
   "source": []
  }
 ],
 "metadata": {
  "kernelspec": {
   "display_name": "Python 3",
   "language": "python",
   "name": "python3"
  },
  "language_info": {
   "codemirror_mode": {
    "name": "ipython",
    "version": 3
   },
   "file_extension": ".py",
   "mimetype": "text/x-python",
   "name": "python",
   "nbconvert_exporter": "python",
   "pygments_lexer": "ipython3",
   "version": "3.7.1"
  }
 },
 "nbformat": 4,
 "nbformat_minor": 2
}
